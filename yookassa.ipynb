{
 "cells": [
  {
   "cell_type": "code",
   "execution_count": 4,
   "id": "6ba3840c-7491-4143-b330-38adab734b9b",
   "metadata": {},
   "outputs": [],
   "source": [
    "import os\n",
    "import uuid\n",
    "from pprint import pprint\n",
    "import json\n",
    "from yookassa import Configuration, Payment, Refund, Receipt, Payout\n"
   ]
  },
  {
   "cell_type": "code",
   "execution_count": 5,
   "id": "0ad88066-ce2f-4ccd-a70a-a1e690a131c2",
   "metadata": {},
   "outputs": [],
   "source": [
    "Configuration.account_id = \"285580\"\n",
    "Configuration.secret_key = \"test_EFAv7DijMc4L2sO5Wt9A1QtT1RMVjyMEGagNk7ERycQ\"\n",
    "synonim = \"h7lRIXiXEUKE5g0OQtrOvtsV.SC.001.202311\""
   ]
  },
  {
   "cell_type": "code",
   "execution_count": 6,
   "id": "cd40eb40-93c3-4e89-8bbb-980cca8567e9",
   "metadata": {},
   "outputs": [],
   "source": [
    "def _j(r):\n",
    "    '''yookassa response to json'''\n",
    "    return json.loads(r.json())\n",
    "\n",
    "def _cu(r):\n",
    "    return r.confirmation.confirmation_url\n",
    "\n",
    "def info(payment_id: str) -> dict:\n",
    "    payment = Payment.find_one(payment_id)\n",
    "    return _j(payment)"
   ]
  },
  {
   "cell_type": "markdown",
   "id": "c84253bc-74b9-4847-a1bd-8ca1dfc6d1de",
   "metadata": {},
   "source": [
    "# Платежи"
   ]
  },
  {
   "cell_type": "markdown",
   "id": "e1d84780-ee34-43c6-9c8f-88e03a14723a",
   "metadata": {},
   "source": [
    "## Простой платеж"
   ]
  },
  {
   "cell_type": "code",
   "execution_count": 9,
   "id": "78b0d2dd-fad2-4730-9395-12296e2f2854",
   "metadata": {},
   "outputs": [],
   "source": [
    "idempotence_key = str(uuid.uuid4())\n",
    "resp = Payment.create({\n",
    "    \"capture\": True,\n",
    "    \"amount\": {\n",
    "        \"value\": \"1000.00\",\n",
    "        \"currency\": \"RUB\"\n",
    "    },\n",
    "    \"payment_method_data\": {\n",
    "        \"type\": \"bank_card\"\n",
    "    },\n",
    "    \"confirmation\": {\n",
    "        \"type\": \"redirect\",\n",
    "        \"return_url\": \"https://www.example.com/return_url\"\n",
    "    },\n",
    "    \"description\": \"Заказ №72\",\n",
    "    \"receipt\": {\n",
    "        \"customer\": {\n",
    "            \"email\": \"user@example.com\"\n",
    "        },\n",
    "        \"items\": [\n",
    "            {\n",
    "                \"description\": \"Топ трикотажный\",\n",
    "                \"quantity\": \"2.00\",\n",
    "                \"amount\": {\n",
    "                    \"value\": \"500.00\",\n",
    "                    \"currency\": \"RUB\"\n",
    "                },\n",
    "                \"vat_code\": \"4\",\n",
    "                \"payment_mode\": \"full_payment\",\n",
    "                \"payment_subject\": \"marked\",\n",
    "                \"mark_mode\": \"0\",\n",
    "                \"mark_code_info\":\n",
    "                    {\n",
    "                        \"gs_1m\": \"DFGwNDY0MDE1Mzg2NDQ5MjIxNW9vY2tOelDFuUFwJh05MUVFMDYdOTJXK2ZaMy9uTjMvcVdHYzBjSVR3NFNOMWg1U2ZLV0dRMWhHL0UrZi8ydkDvPQ==\"\n",
    "                    },\n",
    "                \"measure\": \"piece\"\n",
    "            }\n",
    "        ]\n",
    "    }\n",
    "}, idempotence_key)\n"
   ]
  },
  {
   "cell_type": "code",
   "execution_count": 5,
   "id": "a0c69ac2-dd34-4653-86f3-d25bb63a518c",
   "metadata": {},
   "outputs": [
    {
     "data": {
      "text/plain": [
       "'https://yoomoney.ru/checkout/payments/v2/contract?orderId=2cf5a324-000f-5000-9000-189f392d94e6'"
      ]
     },
     "execution_count": 5,
     "metadata": {},
     "output_type": "execute_result"
    }
   ],
   "source": [
    "_cu(resp)"
   ]
  },
  {
   "cell_type": "code",
   "execution_count": 19,
   "id": "0cccaf42-1507-4b65-a1fe-a888399b24dd",
   "metadata": {
    "scrolled": true
   },
   "outputs": [
    {
     "data": {
      "text/plain": [
       "{'amount': {'currency': 'RUB', 'value': '1000.00'},\n",
       " 'captured_at': '2023-11-26T18:36:09.620Z',\n",
       " 'created_at': '2023-11-26T18:33:09.900Z',\n",
       " 'description': 'Заказ №72',\n",
       " 'id': '2cf5a325-000f-5000-8000-18be96a4366d',\n",
       " 'income_amount': {'currency': 'RUB', 'value': '965.00'},\n",
       " 'metadata': {},\n",
       " 'paid': True,\n",
       " 'payment_method': {'id': '2cf5a325-000f-5000-8000-18be96a4366d',\n",
       "  'saved': False,\n",
       "  'title': 'YooMoney wallet 410011758831136',\n",
       "  'type': 'yoo_money'},\n",
       " 'receipt_registration': 'canceled',\n",
       " 'recipient': {'account_id': '285580', 'gateway_id': '2155075'},\n",
       " 'refundable': True,\n",
       " 'refunded_amount': {'currency': 'RUB', 'value': '0.00'},\n",
       " 'status': 'succeeded',\n",
       " 'test': True}"
      ]
     },
     "execution_count": 19,
     "metadata": {},
     "output_type": "execute_result"
    }
   ],
   "source": [
    "info(resp.id)"
   ]
  },
  {
   "cell_type": "markdown",
   "id": "9e56eea3-29f0-4685-8a5b-eeab35079604",
   "metadata": {},
   "source": [
    "## Подтверждение"
   ]
  },
  {
   "cell_type": "code",
   "execution_count": 7,
   "id": "5168ff86-4ca8-485b-9585-c684b738338b",
   "metadata": {},
   "outputs": [],
   "source": [
    "idempotence_key = str(uuid.uuid4())\n",
    "resp = Payment.create({\n",
    "    \"capture\": False,\n",
    "    \"amount\": {\n",
    "        \"value\": \"1000.00\",\n",
    "        \"currency\": \"RUB\"\n",
    "    },\n",
    "    \"confirmation\": {\n",
    "        \"type\": \"redirect\",\n",
    "        \"return_url\": \"https://www.example.com/return_url\"\n",
    "    },\n",
    "    \"description\": \"Заказ №72\",\n",
    "    \"receipt\": {\n",
    "        \"customer\": {\n",
    "            \"email\": \"user@example.com\"\n",
    "        },\n",
    "        \"items\": [\n",
    "            {\n",
    "                \"description\": \"Топ трикотажный\",\n",
    "                \"quantity\": \"2.00\",\n",
    "                \"amount\": {\n",
    "                    \"value\": \"500.00\",\n",
    "                    \"currency\": \"RUB\"\n",
    "                },\n",
    "                \"vat_code\": \"4\",\n",
    "                \"payment_mode\": \"full_payment\",\n",
    "                \"payment_subject\": \"marked\",\n",
    "                \"mark_mode\": \"0\",\n",
    "                \"mark_code_info\":\n",
    "                    {\n",
    "                        \"gs_1m\": \"DFGwNDY0MDE1Mzg2NDQ5MjIxNW9vY2tOelDFuUFwJh05MUVFMDYdOTJXK2ZaMy9uTjMvcVdHYzBjSVR3NFNOMWg1U2ZLV0dRMWhHL0UrZi8ydkDvPQ==\"\n",
    "                    },\n",
    "                \"measure\": \"piece\"\n",
    "            }\n",
    "        ]\n",
    "    }\n",
    "}, idempotence_key)\n"
   ]
  },
  {
   "cell_type": "code",
   "execution_count": 8,
   "id": "58b8cc16-55e7-4380-a1a1-e6e6012b0692",
   "metadata": {},
   "outputs": [
    {
     "data": {
      "text/plain": [
       "'https://yoomoney.ru/checkout/payments/v2/contract?orderId=2cf5a325-000f-5000-8000-18be96a4366d'"
      ]
     },
     "execution_count": 8,
     "metadata": {},
     "output_type": "execute_result"
    }
   ],
   "source": [
    "_cu(resp)"
   ]
  },
  {
   "cell_type": "code",
   "execution_count": 15,
   "id": "d63dd15f-5b61-4c4c-8791-044b3b0d2035",
   "metadata": {
    "scrolled": true
   },
   "outputs": [
    {
     "data": {
      "text/plain": [
       "{'amount': {'currency': 'RUB', 'value': '1000.00'},\n",
       " 'created_at': '2023-11-26T18:33:09.900Z',\n",
       " 'description': 'Заказ №72',\n",
       " 'expires_at': '2023-12-03T18:34:04.081Z',\n",
       " 'id': '2cf5a325-000f-5000-8000-18be96a4366d',\n",
       " 'metadata': {},\n",
       " 'paid': True,\n",
       " 'payment_method': {'id': '2cf5a325-000f-5000-8000-18be96a4366d',\n",
       "  'saved': False,\n",
       "  'title': 'YooMoney wallet 410011758831136',\n",
       "  'type': 'yoo_money'},\n",
       " 'receipt_registration': 'canceled',\n",
       " 'recipient': {'account_id': '285580', 'gateway_id': '2155075'},\n",
       " 'refundable': False,\n",
       " 'status': 'waiting_for_capture',\n",
       " 'test': True}"
      ]
     },
     "execution_count": 15,
     "metadata": {},
     "output_type": "execute_result"
    }
   ],
   "source": [
    "info(resp.id)"
   ]
  },
  {
   "cell_type": "code",
   "execution_count": 17,
   "id": "94767f86-bcd3-41dd-a278-87a8493167d6",
   "metadata": {},
   "outputs": [],
   "source": [
    "resp = Payment.capture(\n",
    "  resp.id,\n",
    "  {\n",
    "    \"amount\": {\n",
    "      \"value\": \"1000.00\",\n",
    "      \"currency\": \"RUB\"\n",
    "    }\n",
    "  }\n",
    ")\n"
   ]
  },
  {
   "cell_type": "code",
   "execution_count": 18,
   "id": "3334d94f-17cd-4ebc-a415-d3a0e4e8ea37",
   "metadata": {},
   "outputs": [
    {
     "data": {
      "text/plain": [
       "{'amount': {'currency': 'RUB', 'value': '1000.00'},\n",
       " 'captured_at': '2023-11-26T18:36:09.620Z',\n",
       " 'created_at': '2023-11-26T18:33:09.900Z',\n",
       " 'description': 'Заказ №72',\n",
       " 'id': '2cf5a325-000f-5000-8000-18be96a4366d',\n",
       " 'income_amount': {'currency': 'RUB', 'value': '965.00'},\n",
       " 'metadata': {},\n",
       " 'paid': True,\n",
       " 'payment_method': {'id': '2cf5a325-000f-5000-8000-18be96a4366d',\n",
       "  'saved': False,\n",
       "  'title': 'YooMoney wallet 410011758831136',\n",
       "  'type': 'yoo_money'},\n",
       " 'receipt_registration': 'canceled',\n",
       " 'recipient': {'account_id': '285580', 'gateway_id': '2155075'},\n",
       " 'refundable': True,\n",
       " 'refunded_amount': {'currency': 'RUB', 'value': '0.00'},\n",
       " 'status': 'succeeded',\n",
       " 'test': True}"
      ]
     },
     "execution_count": 18,
     "metadata": {},
     "output_type": "execute_result"
    }
   ],
   "source": [
    "_j(resp)"
   ]
  },
  {
   "cell_type": "markdown",
   "id": "0337a5c2-241b-441b-a4e1-c255bc36d8c2",
   "metadata": {},
   "source": [
    "## Частичное подтверждение"
   ]
  },
  {
   "cell_type": "code",
   "execution_count": 21,
   "id": "1e7ef37e-8ab2-49ba-ac01-bf7dfc610886",
   "metadata": {},
   "outputs": [],
   "source": [
    "idempotence_key = str(uuid.uuid4())\n",
    "resp = Payment.create({\n",
    "    \"capture\": False,\n",
    "    \"amount\": {\n",
    "        \"value\": \"1000.00\",\n",
    "        \"currency\": \"RUB\"\n",
    "    },\n",
    "    \"confirmation\": {\n",
    "        \"type\": \"redirect\",\n",
    "        \"return_url\": \"https://www.example.com/return_url\"\n",
    "    },\n",
    "    \"description\": \"Заказ №72\",\n",
    "    \"receipt\": {\n",
    "        \"customer\": {\n",
    "            \"email\": \"user@example.com\"\n",
    "        },\n",
    "        \"items\": [\n",
    "            {\n",
    "                \"description\": \"Топ трикотажный\",\n",
    "                \"quantity\": \"2.00\",\n",
    "                \"amount\": {\n",
    "                    \"value\": \"500.00\",\n",
    "                    \"currency\": \"RUB\"\n",
    "                },\n",
    "                \"vat_code\": \"4\",\n",
    "                \"payment_mode\": \"full_payment\",\n",
    "                \"payment_subject\": \"marked\",\n",
    "                \"mark_mode\": \"0\",\n",
    "                \"mark_code_info\":\n",
    "                    {\n",
    "                        \"gs_1m\": \"DFGwNDY0MDE1Mzg2NDQ5MjIxNW9vY2tOelDFuUFwJh05MUVFMDYdOTJXK2ZaMy9uTjMvcVdHYzBjSVR3NFNOMWg1U2ZLV0dRMWhHL0UrZi8ydkDvPQ==\"\n",
    "                    },\n",
    "                \"measure\": \"piece\"\n",
    "            }\n",
    "        ]\n",
    "    }\n",
    "}, idempotence_key)\n"
   ]
  },
  {
   "cell_type": "code",
   "execution_count": 22,
   "id": "47deb2b6-c01a-4ca4-a089-fd2067a9b56c",
   "metadata": {},
   "outputs": [
    {
     "data": {
      "text/plain": [
       "'https://yoomoney.ru/checkout/payments/v2/contract?orderId=2cf5a4a1-000f-5000-9000-160e2189be45'"
      ]
     },
     "execution_count": 22,
     "metadata": {},
     "output_type": "execute_result"
    }
   ],
   "source": [
    "_cu(resp)"
   ]
  },
  {
   "cell_type": "code",
   "execution_count": 26,
   "id": "cd0420e0-c049-4210-a6be-84322700e676",
   "metadata": {
    "scrolled": true
   },
   "outputs": [
    {
     "data": {
      "text/plain": [
       "{'amount': {'currency': 'RUB', 'value': '1000.00'},\n",
       " 'created_at': '2023-11-26T18:39:29.303Z',\n",
       " 'description': 'Заказ №72',\n",
       " 'expires_at': '2023-12-03T18:40:01.750Z',\n",
       " 'id': '2cf5a4a1-000f-5000-9000-160e2189be45',\n",
       " 'metadata': {},\n",
       " 'paid': True,\n",
       " 'payment_method': {'id': '2cf5a4a1-000f-5000-9000-160e2189be45',\n",
       "  'saved': False,\n",
       "  'title': 'YooMoney wallet 410011758831136',\n",
       "  'type': 'yoo_money'},\n",
       " 'receipt_registration': 'canceled',\n",
       " 'recipient': {'account_id': '285580', 'gateway_id': '2155075'},\n",
       " 'refundable': False,\n",
       " 'status': 'waiting_for_capture',\n",
       " 'test': True}"
      ]
     },
     "execution_count": 26,
     "metadata": {},
     "output_type": "execute_result"
    }
   ],
   "source": [
    "info(resp.id)"
   ]
  },
  {
   "cell_type": "code",
   "execution_count": 28,
   "id": "1a3ff871-6ff9-4b83-9f63-42e310590d64",
   "metadata": {},
   "outputs": [],
   "source": [
    "resp = Payment.capture(\n",
    "  resp.id,\n",
    "  {\n",
    "    \"amount\": {\n",
    "      \"value\": \"500.00\",\n",
    "      \"currency\": \"RUB\"\n",
    "    },\n",
    "    \"receipt\": {\n",
    "        \"customer\": {\n",
    "            \"email\": \"user@example.com\"\n",
    "        },\n",
    "        \"items\": [\n",
    "            {\n",
    "                \"description\": \"Топ трикотажный\",\n",
    "                \"quantity\": \"1.00\",\n",
    "                \"amount\": {\n",
    "                    \"value\": \"500.00\",\n",
    "                    \"currency\": \"RUB\"\n",
    "                },\n",
    "                \"vat_code\": \"4\",\n",
    "                \"payment_mode\": \"full_payment\",\n",
    "                \"payment_subject\": \"marked\",\n",
    "                \"mark_mode\": \"0\",\n",
    "                \"mark_code_info\":\n",
    "                    {\n",
    "                        \"gs_1m\": \"DFGwNDY0MDE1Mzg2NDQ5MjIxNW9vY2tOelDFuUFwJh05MUVFMDYdOTJXK2ZaMy9uTjMvcVdHYzBjSVR3NFNOMWg1U2ZLV0dRMWhHL0UrZi8ydkDvPQ==\"\n",
    "                    },\n",
    "                \"measure\": \"piece\"\n",
    "            }\n",
    "        ]\n",
    "    }\n",
    "  }\n",
    ")\n"
   ]
  },
  {
   "cell_type": "code",
   "execution_count": 29,
   "id": "11dd9a77-efba-44dd-8a19-a6537d843348",
   "metadata": {},
   "outputs": [
    {
     "data": {
      "text/plain": [
       "{'amount': {'currency': 'RUB', 'value': '500.00'},\n",
       " 'captured_at': '2023-11-26T18:41:09.338Z',\n",
       " 'created_at': '2023-11-26T18:39:29.303Z',\n",
       " 'description': 'Заказ №72',\n",
       " 'id': '2cf5a4a1-000f-5000-9000-160e2189be45',\n",
       " 'income_amount': {'currency': 'RUB', 'value': '482.50'},\n",
       " 'metadata': {},\n",
       " 'paid': True,\n",
       " 'payment_method': {'id': '2cf5a4a1-000f-5000-9000-160e2189be45',\n",
       "  'saved': False,\n",
       "  'title': 'YooMoney wallet 410011758831136',\n",
       "  'type': 'yoo_money'},\n",
       " 'receipt_registration': 'canceled',\n",
       " 'recipient': {'account_id': '285580', 'gateway_id': '2155075'},\n",
       " 'refundable': True,\n",
       " 'refunded_amount': {'currency': 'RUB', 'value': '0.00'},\n",
       " 'status': 'succeeded',\n",
       " 'test': True}"
      ]
     },
     "execution_count": 29,
     "metadata": {},
     "output_type": "execute_result"
    }
   ],
   "source": [
    "_j(resp)"
   ]
  },
  {
   "cell_type": "markdown",
   "id": "d23bd2fc-05b3-4730-814d-64311a6d8a24",
   "metadata": {},
   "source": [
    "# Отмена"
   ]
  },
  {
   "cell_type": "code",
   "execution_count": 30,
   "id": "0fbcc804-b4a9-4cac-bb15-0cca964ed540",
   "metadata": {},
   "outputs": [],
   "source": [
    "idempotence_key = str(uuid.uuid4())\n",
    "resp = Payment.create({\n",
    "    \"capture\": False,\n",
    "    \"amount\": {\n",
    "        \"value\": \"1000.00\",\n",
    "        \"currency\": \"RUB\"\n",
    "    },\n",
    "    \"confirmation\": {\n",
    "        \"type\": \"redirect\",\n",
    "        \"return_url\": \"https://www.example.com/return_url\"\n",
    "    },\n",
    "    \"description\": \"Заказ №72\",\n",
    "    \"receipt\": {\n",
    "        \"customer\": {\n",
    "            \"email\": \"user@example.com\"\n",
    "        },\n",
    "        \"items\": [\n",
    "            {\n",
    "                \"description\": \"Топ трикотажный\",\n",
    "                \"quantity\": \"2.00\",\n",
    "                \"amount\": {\n",
    "                    \"value\": \"500.00\",\n",
    "                    \"currency\": \"RUB\"\n",
    "                },\n",
    "                \"vat_code\": \"4\",\n",
    "                \"payment_mode\": \"full_payment\",\n",
    "                \"payment_subject\": \"marked\",\n",
    "                \"mark_mode\": \"0\",\n",
    "                \"mark_code_info\":\n",
    "                    {\n",
    "                        \"gs_1m\": \"DFGwNDY0MDE1Mzg2NDQ5MjIxNW9vY2tOelDFuUFwJh05MUVFMDYdOTJXK2ZaMy9uTjMvcVdHYzBjSVR3NFNOMWg1U2ZLV0dRMWhHL0UrZi8ydkDvPQ==\"\n",
    "                    },\n",
    "                \"measure\": \"piece\"\n",
    "            }\n",
    "        ]\n",
    "    }\n",
    "}, idempotence_key)\n"
   ]
  },
  {
   "cell_type": "code",
   "execution_count": 31,
   "id": "db9b38d4-5ff1-455e-8109-7e8798c7a5fd",
   "metadata": {},
   "outputs": [
    {
     "data": {
      "text/plain": [
       "'https://yoomoney.ru/checkout/payments/v2/contract?orderId=2cf5a59d-000f-5000-9000-1e8285f132c8'"
      ]
     },
     "execution_count": 31,
     "metadata": {},
     "output_type": "execute_result"
    }
   ],
   "source": [
    "_cu(resp)"
   ]
  },
  {
   "cell_type": "code",
   "execution_count": 32,
   "id": "12ab64b3-f704-4be3-9602-e6f49bad339c",
   "metadata": {
    "scrolled": true
   },
   "outputs": [
    {
     "data": {
      "text/plain": [
       "{'amount': {'currency': 'RUB', 'value': '1000.00'},\n",
       " 'confirmation': {'confirmation_url': 'https://yoomoney.ru/checkout/payments/v2/contract?orderId=2cf5a59d-000f-5000-9000-1e8285f132c8',\n",
       "  'type': 'redirect'},\n",
       " 'created_at': '2023-11-26T18:43:41.548Z',\n",
       " 'description': 'Заказ №72',\n",
       " 'id': '2cf5a59d-000f-5000-9000-1e8285f132c8',\n",
       " 'metadata': {},\n",
       " 'paid': False,\n",
       " 'recipient': {'account_id': '285580', 'gateway_id': '2155075'},\n",
       " 'refundable': False,\n",
       " 'status': 'pending',\n",
       " 'test': True}"
      ]
     },
     "execution_count": 32,
     "metadata": {},
     "output_type": "execute_result"
    }
   ],
   "source": [
    "info(resp.id)"
   ]
  },
  {
   "cell_type": "code",
   "execution_count": 34,
   "id": "077f8a96-9e28-4c68-8326-5f6aae83ddd0",
   "metadata": {},
   "outputs": [],
   "source": [
    "resp = Payment.cancel(resp.id)\n"
   ]
  },
  {
   "cell_type": "code",
   "execution_count": 35,
   "id": "e2c0aa92-57c4-4e0e-8cd5-b7caafa95f0a",
   "metadata": {},
   "outputs": [
    {
     "data": {
      "text/plain": [
       "{'amount': {'currency': 'RUB', 'value': '1000.00'},\n",
       " 'cancellation_details': {'party': 'merchant',\n",
       "  'reason': 'canceled_by_merchant'},\n",
       " 'created_at': '2023-11-26T18:43:41.548Z',\n",
       " 'description': 'Заказ №72',\n",
       " 'id': '2cf5a59d-000f-5000-9000-1e8285f132c8',\n",
       " 'metadata': {},\n",
       " 'paid': False,\n",
       " 'payment_method': {'id': '2cf5a59d-000f-5000-9000-1e8285f132c8',\n",
       "  'saved': False,\n",
       "  'title': 'YooMoney wallet 410011758831136',\n",
       "  'type': 'yoo_money'},\n",
       " 'receipt_registration': 'canceled',\n",
       " 'recipient': {'account_id': '285580', 'gateway_id': '2155075'},\n",
       " 'refundable': False,\n",
       " 'status': 'canceled',\n",
       " 'test': True}"
      ]
     },
     "execution_count": 35,
     "metadata": {},
     "output_type": "execute_result"
    }
   ],
   "source": [
    "info(resp.id)"
   ]
  },
  {
   "cell_type": "markdown",
   "id": "c12a9d7a-5b97-41e4-8ce9-f8d15e6d7b2a",
   "metadata": {},
   "source": [
    "# Возврат"
   ]
  },
  {
   "cell_type": "code",
   "execution_count": 43,
   "id": "1a72e35e-6a16-4273-8761-149dc2f80e90",
   "metadata": {},
   "outputs": [],
   "source": [
    "idempotence_key = str(uuid.uuid4())\n",
    "resp = Payment.create({\n",
    "    \"capture\": True,\n",
    "    \"amount\": {\n",
    "        \"value\": \"1000.00\",\n",
    "        \"currency\": \"RUB\"\n",
    "    },\n",
    "    \"payment_method_data\": {\n",
    "        \"type\": \"bank_card\"\n",
    "    },\n",
    "    \"confirmation\": {\n",
    "        \"type\": \"redirect\",\n",
    "        \"return_url\": \"https://www.example.com/return_url\"\n",
    "    },\n",
    "    \"description\": \"Заказ №72\",\n",
    "    \"receipt\": {\n",
    "        \"customer\": {\n",
    "            \"email\": \"user@example.com\"\n",
    "        },\n",
    "        \"items\": [\n",
    "            {\n",
    "                \"description\": \"Топ трикотажный\",\n",
    "                \"quantity\": \"2.00\",\n",
    "                \"amount\": {\n",
    "                    \"value\": \"500.00\",\n",
    "                    \"currency\": \"RUB\"\n",
    "                },\n",
    "                \"vat_code\": \"4\",\n",
    "                \"payment_mode\": \"full_payment\",\n",
    "                \"payment_subject\": \"marked\",\n",
    "                \"mark_mode\": \"0\",\n",
    "                \"mark_code_info\":\n",
    "                    {\n",
    "                        \"gs_1m\": \"DFGwNDY0MDE1Mzg2NDQ5MjIxNW9vY2tOelDFuUFwJh05MUVFMDYdOTJXK2ZaMy9uTjMvcVdHYzBjSVR3NFNOMWg1U2ZLV0dRMWhHL0UrZi8ydkDvPQ==\"\n",
    "                    },\n",
    "                \"measure\": \"piece\"\n",
    "            }\n",
    "        ]\n",
    "    }\n",
    "}, idempotence_key)\n"
   ]
  },
  {
   "cell_type": "code",
   "execution_count": 44,
   "id": "3c1dd265-c9bb-41fa-adcd-1e5f3120ee97",
   "metadata": {},
   "outputs": [
    {
     "data": {
      "text/plain": [
       "'https://yoomoney.ru/checkout/payments/v2/contract?orderId=2cf5a6fc-000f-5000-9000-129bdeaef50b'"
      ]
     },
     "execution_count": 44,
     "metadata": {},
     "output_type": "execute_result"
    }
   ],
   "source": [
    "_cu(resp)"
   ]
  },
  {
   "cell_type": "code",
   "execution_count": 45,
   "id": "e6291e75-9786-4c50-912f-c1089fb3fd29",
   "metadata": {
    "scrolled": true
   },
   "outputs": [
    {
     "data": {
      "text/plain": [
       "{'amount': {'currency': 'RUB', 'value': '1000.00'},\n",
       " 'authorization_details': {'auth_code': '575786',\n",
       "  'rrn': '307928685823932',\n",
       "  'three_d_secure': {'applied': False}},\n",
       " 'captured_at': '2023-11-26T18:49:58.405Z',\n",
       " 'created_at': '2023-11-26T18:49:32.553Z',\n",
       " 'description': 'Заказ №72',\n",
       " 'id': '2cf5a6fc-000f-5000-9000-129bdeaef50b',\n",
       " 'income_amount': {'currency': 'RUB', 'value': '965.00'},\n",
       " 'metadata': {},\n",
       " 'paid': True,\n",
       " 'payment_method': {'card': {'card_type': 'MasterCard',\n",
       "   'expiry_month': '12',\n",
       "   'expiry_year': '2026',\n",
       "   'first6': '555555',\n",
       "   'issuer_country': 'US',\n",
       "   'last4': '4444'},\n",
       "  'id': '2cf5a6fc-000f-5000-9000-129bdeaef50b',\n",
       "  'saved': False,\n",
       "  'title': 'Bank card *4444',\n",
       "  'type': 'bank_card'},\n",
       " 'receipt_registration': 'canceled',\n",
       " 'recipient': {'account_id': '285580', 'gateway_id': '2155075'},\n",
       " 'refundable': True,\n",
       " 'refunded_amount': {'currency': 'RUB', 'value': '0.00'},\n",
       " 'status': 'succeeded',\n",
       " 'test': True}"
      ]
     },
     "execution_count": 45,
     "metadata": {},
     "output_type": "execute_result"
    }
   ],
   "source": [
    "info(resp.id)"
   ]
  },
  {
   "cell_type": "code",
   "execution_count": 46,
   "id": "ec3a56f4-a423-4917-9d4b-cb875b3962dc",
   "metadata": {},
   "outputs": [],
   "source": [
    "resp = Refund.create({\n",
    "  \"amount\": {\n",
    "    \"value\": \"1000.00\",\n",
    "    \"currency\": \"RUB\"\n",
    "  },\n",
    "  \"payment_id\": resp.id\n",
    "})\n"
   ]
  },
  {
   "cell_type": "markdown",
   "id": "ce22d49f-81f9-4936-9265-4b8b28748f86",
   "metadata": {},
   "source": [
    "## Частичный возврат"
   ]
  },
  {
   "cell_type": "code",
   "execution_count": 47,
   "id": "5240ecf6-b98f-4cde-8a10-4888dc6a62d0",
   "metadata": {},
   "outputs": [],
   "source": [
    "idempotence_key = str(uuid.uuid4())\n",
    "resp = Payment.create({\n",
    "    \"capture\": True,\n",
    "    \"amount\": {\n",
    "        \"value\": \"1000.00\",\n",
    "        \"currency\": \"RUB\"\n",
    "    },\n",
    "    \"payment_method_data\": {\n",
    "        \"type\": \"bank_card\"\n",
    "    },\n",
    "    \"confirmation\": {\n",
    "        \"type\": \"redirect\",\n",
    "        \"return_url\": \"https://www.example.com/return_url\"\n",
    "    },\n",
    "    \"description\": \"Заказ №72\",\n",
    "    \"receipt\": {\n",
    "        \"customer\": {\n",
    "            \"email\": \"user@example.com\"\n",
    "        },\n",
    "        \"items\": [\n",
    "            {\n",
    "                \"description\": \"Топ трикотажный\",\n",
    "                \"quantity\": \"2.00\",\n",
    "                \"amount\": {\n",
    "                    \"value\": \"500.00\",\n",
    "                    \"currency\": \"RUB\"\n",
    "                },\n",
    "                \"vat_code\": \"4\",\n",
    "                \"payment_mode\": \"full_payment\",\n",
    "                \"payment_subject\": \"marked\",\n",
    "                \"mark_mode\": \"0\",\n",
    "                \"mark_code_info\":\n",
    "                    {\n",
    "                        \"gs_1m\": \"DFGwNDY0MDE1Mzg2NDQ5MjIxNW9vY2tOelDFuUFwJh05MUVFMDYdOTJXK2ZaMy9uTjMvcVdHYzBjSVR3NFNOMWg1U2ZLV0dRMWhHL0UrZi8ydkDvPQ==\"\n",
    "                    },\n",
    "                \"measure\": \"piece\"\n",
    "            }\n",
    "        ]\n",
    "    }\n",
    "}, idempotence_key)\n"
   ]
  },
  {
   "cell_type": "code",
   "execution_count": 49,
   "id": "335e5ad9-cfa1-41ec-8e2f-50075ad87098",
   "metadata": {},
   "outputs": [
    {
     "data": {
      "text/plain": [
       "'https://yoomoney.ru/checkout/payments/v2/contract?orderId=2cf5a893-000f-5000-8000-1a1ce84e64ee'"
      ]
     },
     "execution_count": 49,
     "metadata": {},
     "output_type": "execute_result"
    }
   ],
   "source": [
    "_cu(resp)"
   ]
  },
  {
   "cell_type": "code",
   "execution_count": 50,
   "id": "98ff8a79-b370-4911-87b0-14e88428d8b4",
   "metadata": {
    "scrolled": true
   },
   "outputs": [
    {
     "data": {
      "text/plain": [
       "{'amount': {'currency': 'RUB', 'value': '1000.00'},\n",
       " 'authorization_details': {'auth_code': '596955',\n",
       "  'rrn': '499022601434245',\n",
       "  'three_d_secure': {'applied': False}},\n",
       " 'captured_at': '2023-11-26T18:56:41.696Z',\n",
       " 'created_at': '2023-11-26T18:56:19.241Z',\n",
       " 'description': 'Заказ №72',\n",
       " 'id': '2cf5a893-000f-5000-8000-1a1ce84e64ee',\n",
       " 'income_amount': {'currency': 'RUB', 'value': '965.00'},\n",
       " 'metadata': {},\n",
       " 'paid': True,\n",
       " 'payment_method': {'card': {'card_type': 'MasterCard',\n",
       "   'expiry_month': '12',\n",
       "   'expiry_year': '2026',\n",
       "   'first6': '555555',\n",
       "   'issuer_country': 'US',\n",
       "   'last4': '4444'},\n",
       "  'id': '2cf5a893-000f-5000-8000-1a1ce84e64ee',\n",
       "  'saved': False,\n",
       "  'title': 'Bank card *4444',\n",
       "  'type': 'bank_card'},\n",
       " 'receipt_registration': 'canceled',\n",
       " 'recipient': {'account_id': '285580', 'gateway_id': '2155075'},\n",
       " 'refundable': True,\n",
       " 'refunded_amount': {'currency': 'RUB', 'value': '0.00'},\n",
       " 'status': 'succeeded',\n",
       " 'test': True}"
      ]
     },
     "execution_count": 50,
     "metadata": {},
     "output_type": "execute_result"
    }
   ],
   "source": [
    "info(resp.id)"
   ]
  },
  {
   "cell_type": "code",
   "execution_count": 52,
   "id": "1e7caed3-e41f-4a8f-8a3e-5a5d1f54817c",
   "metadata": {},
   "outputs": [],
   "source": [
    "resp = Refund.create({\n",
    "  \"amount\": {\n",
    "    \"value\": \"500.00\",\n",
    "    \"currency\": \"RUB\"\n",
    "  },\n",
    "  \"receipt\": {\n",
    "        \"customer\": {\n",
    "            \"email\": \"user@example.com\"\n",
    "        },\n",
    "        \"items\": [\n",
    "            {\n",
    "                \"description\": \"Топ трикотажный\",\n",
    "                \"quantity\": \"1.00\",\n",
    "                \"amount\": {\n",
    "                    \"value\": \"500.00\",\n",
    "                    \"currency\": \"RUB\"\n",
    "                },\n",
    "                \"vat_code\": \"4\",\n",
    "                \"payment_mode\": \"full_payment\",\n",
    "                \"payment_subject\": \"marked\",\n",
    "                \"mark_mode\": \"0\",\n",
    "                \"mark_code_info\":\n",
    "                    {\n",
    "                        \"gs_1m\": \"DFGwNDY0MDE1Mzg2NDQ5MjIxNW9vY2tOelDFuUFwJh05MUVFMDYdOTJXK2ZaMy9uTjMvcVdHYzBjSVR3NFNOMWg1U2ZLV0dRMWhHL0UrZi8ydkDvPQ==\"\n",
    "                    },\n",
    "                \"measure\": \"piece\"\n",
    "            }\n",
    "        ]\n",
    "    },\n",
    "  \"payment_id\": resp.id\n",
    "})\n"
   ]
  },
  {
   "cell_type": "markdown",
   "id": "868395e2-84b4-48ef-b69a-4f1fddcb44cf",
   "metadata": {},
   "source": [
    "# Запросы списков\n",
    "* gte >=\n",
    "* gt >\n",
    "* lte <=\n",
    "* lt <\n"
   ]
  },
  {
   "cell_type": "code",
   "execution_count": 55,
   "id": "e1762a27-04ff-4fda-bb6a-da10616f52b3",
   "metadata": {},
   "outputs": [],
   "source": [
    "from yookassa import Payment\n",
    "\n",
    "res = Payment.list()\n"
   ]
  },
  {
   "cell_type": "code",
   "execution_count": 56,
   "id": "cd7ffae2-09ea-4048-9b2a-93d096f766c5",
   "metadata": {},
   "outputs": [
    {
     "data": {
      "text/plain": [
       "{'items': [{'amount': {'currency': 'RUB', 'value': '1000.00'},\n",
       "   'authorization_details': {'auth_code': '596955',\n",
       "    'rrn': '499022601434245',\n",
       "    'three_d_secure': {'applied': False}},\n",
       "   'captured_at': '2023-11-26T18:56:41.696Z',\n",
       "   'created_at': '2023-11-26T18:56:19.241Z',\n",
       "   'description': 'Заказ №72',\n",
       "   'id': '2cf5a893-000f-5000-8000-1a1ce84e64ee',\n",
       "   'income_amount': {'currency': 'RUB', 'value': '965.00'},\n",
       "   'metadata': {},\n",
       "   'paid': True,\n",
       "   'payment_method': {'card': {'card_type': 'MasterCard',\n",
       "     'expiry_month': '12',\n",
       "     'expiry_year': '2026',\n",
       "     'first6': '555555',\n",
       "     'issuer_country': 'US',\n",
       "     'last4': '4444'},\n",
       "    'id': '2cf5a893-000f-5000-8000-1a1ce84e64ee',\n",
       "    'saved': False,\n",
       "    'title': 'Bank card *4444',\n",
       "    'type': 'bank_card'},\n",
       "   'receipt_registration': 'canceled',\n",
       "   'recipient': {'account_id': '285580', 'gateway_id': '2155075'},\n",
       "   'refundable': True,\n",
       "   'refunded_amount': {'currency': 'RUB', 'value': '500.00'},\n",
       "   'status': 'succeeded',\n",
       "   'test': True},\n",
       "  {'amount': {'currency': 'RUB', 'value': '1000.00'},\n",
       "   'authorization_details': {'auth_code': '575786',\n",
       "    'rrn': '307928685823932',\n",
       "    'three_d_secure': {'applied': False}},\n",
       "   'captured_at': '2023-11-26T18:49:58.405Z',\n",
       "   'created_at': '2023-11-26T18:49:32.553Z',\n",
       "   'description': 'Заказ №72',\n",
       "   'id': '2cf5a6fc-000f-5000-9000-129bdeaef50b',\n",
       "   'income_amount': {'currency': 'RUB', 'value': '965.00'},\n",
       "   'metadata': {},\n",
       "   'paid': True,\n",
       "   'payment_method': {'card': {'card_type': 'MasterCard',\n",
       "     'expiry_month': '12',\n",
       "     'expiry_year': '2026',\n",
       "     'first6': '555555',\n",
       "     'issuer_country': 'US',\n",
       "     'last4': '4444'},\n",
       "    'id': '2cf5a6fc-000f-5000-9000-129bdeaef50b',\n",
       "    'saved': False,\n",
       "    'title': 'Bank card *4444',\n",
       "    'type': 'bank_card'},\n",
       "   'receipt_registration': 'canceled',\n",
       "   'recipient': {'account_id': '285580', 'gateway_id': '2155075'},\n",
       "   'refundable': False,\n",
       "   'refunded_amount': {'currency': 'RUB', 'value': '1000.00'},\n",
       "   'status': 'succeeded',\n",
       "   'test': True},\n",
       "  {'amount': {'currency': 'RUB', 'value': '1000.00'},\n",
       "   'cancellation_details': {'party': 'yoo_money',\n",
       "    'reason': 'expired_on_confirmation'},\n",
       "   'created_at': '2023-11-26T18:47:41.074Z',\n",
       "   'description': 'Заказ №72',\n",
       "   'id': '2cf5a68d-000f-5000-9000-10a7baffb3e3',\n",
       "   'metadata': {},\n",
       "   'paid': False,\n",
       "   'payment_method': {'id': '2cf5a68d-000f-5000-9000-10a7baffb3e3',\n",
       "    'saved': False,\n",
       "    'type': 'bank_card'},\n",
       "   'recipient': {'account_id': '285580', 'gateway_id': '2155075'},\n",
       "   'refundable': False,\n",
       "   'status': 'canceled',\n",
       "   'test': True},\n",
       "  {'amount': {'currency': 'RUB', 'value': '1000.00'},\n",
       "   'cancellation_details': {'party': 'merchant',\n",
       "    'reason': 'canceled_by_merchant'},\n",
       "   'created_at': '2023-11-26T18:43:41.548Z',\n",
       "   'description': 'Заказ №72',\n",
       "   'id': '2cf5a59d-000f-5000-9000-1e8285f132c8',\n",
       "   'metadata': {},\n",
       "   'paid': False,\n",
       "   'payment_method': {'id': '2cf5a59d-000f-5000-9000-1e8285f132c8',\n",
       "    'saved': False,\n",
       "    'title': 'YooMoney wallet 410011758831136',\n",
       "    'type': 'yoo_money'},\n",
       "   'receipt_registration': 'canceled',\n",
       "   'recipient': {'account_id': '285580', 'gateway_id': '2155075'},\n",
       "   'refundable': False,\n",
       "   'status': 'canceled',\n",
       "   'test': True},\n",
       "  {'amount': {'currency': 'RUB', 'value': '500.00'},\n",
       "   'captured_at': '2023-11-26T18:41:09.338Z',\n",
       "   'created_at': '2023-11-26T18:39:29.303Z',\n",
       "   'description': 'Заказ №72',\n",
       "   'id': '2cf5a4a1-000f-5000-9000-160e2189be45',\n",
       "   'income_amount': {'currency': 'RUB', 'value': '482.50'},\n",
       "   'metadata': {},\n",
       "   'paid': True,\n",
       "   'payment_method': {'id': '2cf5a4a1-000f-5000-9000-160e2189be45',\n",
       "    'saved': False,\n",
       "    'title': 'YooMoney wallet 410011758831136',\n",
       "    'type': 'yoo_money'},\n",
       "   'receipt_registration': 'canceled',\n",
       "   'recipient': {'account_id': '285580', 'gateway_id': '2155075'},\n",
       "   'refundable': True,\n",
       "   'refunded_amount': {'currency': 'RUB', 'value': '0.00'},\n",
       "   'status': 'succeeded',\n",
       "   'test': True},\n",
       "  {'amount': {'currency': 'RUB', 'value': '1000.00'},\n",
       "   'captured_at': '2023-11-26T18:36:09.620Z',\n",
       "   'created_at': '2023-11-26T18:33:09.900Z',\n",
       "   'description': 'Заказ №72',\n",
       "   'id': '2cf5a325-000f-5000-8000-18be96a4366d',\n",
       "   'income_amount': {'currency': 'RUB', 'value': '965.00'},\n",
       "   'metadata': {},\n",
       "   'paid': True,\n",
       "   'payment_method': {'id': '2cf5a325-000f-5000-8000-18be96a4366d',\n",
       "    'saved': False,\n",
       "    'title': 'YooMoney wallet 410011758831136',\n",
       "    'type': 'yoo_money'},\n",
       "   'receipt_registration': 'canceled',\n",
       "   'recipient': {'account_id': '285580', 'gateway_id': '2155075'},\n",
       "   'refundable': True,\n",
       "   'refunded_amount': {'currency': 'RUB', 'value': '0.00'},\n",
       "   'status': 'succeeded',\n",
       "   'test': True},\n",
       "  {'amount': {'currency': 'RUB', 'value': '1000.00'},\n",
       "   'authorization_details': {'auth_code': '403281',\n",
       "    'rrn': '255878113601317',\n",
       "    'three_d_secure': {'applied': False}},\n",
       "   'captured_at': '2023-11-26T18:33:37.117Z',\n",
       "   'created_at': '2023-11-26T18:33:08.702Z',\n",
       "   'description': 'Заказ №72',\n",
       "   'id': '2cf5a324-000f-5000-9000-189f392d94e6',\n",
       "   'income_amount': {'currency': 'RUB', 'value': '965.00'},\n",
       "   'metadata': {},\n",
       "   'paid': True,\n",
       "   'payment_method': {'card': {'card_type': 'MasterCard',\n",
       "     'expiry_month': '12',\n",
       "     'expiry_year': '2025',\n",
       "     'first6': '555555',\n",
       "     'issuer_country': 'US',\n",
       "     'last4': '4444'},\n",
       "    'id': '2cf5a324-000f-5000-9000-189f392d94e6',\n",
       "    'saved': False,\n",
       "    'title': 'Bank card *4444',\n",
       "    'type': 'bank_card'},\n",
       "   'receipt_registration': 'canceled',\n",
       "   'recipient': {'account_id': '285580', 'gateway_id': '2155075'},\n",
       "   'refundable': True,\n",
       "   'refunded_amount': {'currency': 'RUB', 'value': '0.00'},\n",
       "   'status': 'succeeded',\n",
       "   'test': True},\n",
       "  {'amount': {'currency': 'RUB', 'value': '1000.00'},\n",
       "   'cancellation_details': {'party': 'yoo_money',\n",
       "    'reason': 'expired_on_confirmation'},\n",
       "   'created_at': '2023-11-26T18:32:33.111Z',\n",
       "   'description': 'Заказ №72',\n",
       "   'id': '2cf5a301-000f-5000-9000-11c1e045a9a8',\n",
       "   'metadata': {},\n",
       "   'paid': False,\n",
       "   'payment_method': {'id': '2cf5a301-000f-5000-9000-11c1e045a9a8',\n",
       "    'saved': False,\n",
       "    'type': 'bank_card'},\n",
       "   'recipient': {'account_id': '285580', 'gateway_id': '2155075'},\n",
       "   'refundable': False,\n",
       "   'status': 'canceled',\n",
       "   'test': True},\n",
       "  {'amount': {'currency': 'RUB', 'value': '1000.00'},\n",
       "   'created_at': '2023-11-26T18:29:59.439Z',\n",
       "   'description': 'Заказ №72',\n",
       "   'expires_at': '2023-12-03T18:30:08.385Z',\n",
       "   'id': '2cf5a267-000f-5000-8000-1412be530213',\n",
       "   'metadata': {},\n",
       "   'paid': True,\n",
       "   'payment_method': {'id': '2cf5a267-000f-5000-8000-1412be530213',\n",
       "    'saved': False,\n",
       "    'title': 'YooMoney wallet 410011758831136',\n",
       "    'type': 'yoo_money'},\n",
       "   'receipt_registration': 'canceled',\n",
       "   'recipient': {'account_id': '285580', 'gateway_id': '2155075'},\n",
       "   'refundable': False,\n",
       "   'status': 'waiting_for_capture',\n",
       "   'test': True},\n",
       "  {'amount': {'currency': 'RUB', 'value': '1000.00'},\n",
       "   'cancellation_details': {'party': 'yoo_money',\n",
       "    'reason': 'expired_on_confirmation'},\n",
       "   'created_at': '2023-11-26T18:28:52.857Z',\n",
       "   'description': 'Заказ №72',\n",
       "   'id': '2cf5a224-000f-5000-9000-15546c2d1fc1',\n",
       "   'metadata': {},\n",
       "   'paid': False,\n",
       "   'recipient': {'account_id': '285580', 'gateway_id': '2155075'},\n",
       "   'refundable': False,\n",
       "   'status': 'canceled',\n",
       "   'test': True}],\n",
       " 'next_cursor': '2cf598cd-000f-5000-a000-1f6c281c36ee',\n",
       " 'type': 'list'}"
      ]
     },
     "execution_count": 56,
     "metadata": {},
     "output_type": "execute_result"
    }
   ],
   "source": [
    "_j(res)"
   ]
  },
  {
   "cell_type": "code",
   "execution_count": 58,
   "id": "d422472d-ba6b-4b76-a87d-3d11627daf84",
   "metadata": {},
   "outputs": [],
   "source": [
    "res = Payment.list({'cursor': res.next_cursor})"
   ]
  },
  {
   "cell_type": "code",
   "execution_count": 59,
   "id": "e3818625-3936-4c9a-a760-a4e524399d7e",
   "metadata": {},
   "outputs": [
    {
     "data": {
      "text/plain": [
       "{'items': [{'amount': {'currency': 'RUB', 'value': '500.00'},\n",
       "   'cancellation_details': {'party': 'yoo_money',\n",
       "    'reason': 'expired_on_confirmation'},\n",
       "   'created_at': '2023-11-26T17:49:01.032Z',\n",
       "   'description': 'Заказ №72',\n",
       "   'id': '2cf598cd-000f-5000-a000-1f6c281c36ee',\n",
       "   'metadata': {},\n",
       "   'paid': False,\n",
       "   'payment_method': {'id': '2cf598cd-000f-5000-a000-1f6c281c36ee',\n",
       "    'saved': False,\n",
       "    'type': 'bank_card'},\n",
       "   'recipient': {'account_id': '285580', 'gateway_id': '2155075'},\n",
       "   'refundable': False,\n",
       "   'status': 'canceled',\n",
       "   'test': True},\n",
       "  {'amount': {'currency': 'RUB', 'value': '500.00'},\n",
       "   'authorization_details': {'auth_code': '750247',\n",
       "    'rrn': '771824812743904',\n",
       "    'three_d_secure': {'applied': False}},\n",
       "   'captured_at': '2023-11-26T17:52:12.017Z',\n",
       "   'created_at': '2023-11-26T17:46:40.776Z',\n",
       "   'description': 'Заказ №72',\n",
       "   'id': '2cf59840-000f-5000-8000-18f8dd3ff47d',\n",
       "   'income_amount': {'currency': 'RUB', 'value': '482.50'},\n",
       "   'metadata': {},\n",
       "   'paid': True,\n",
       "   'payment_method': {'card': {'card_type': 'MasterCard',\n",
       "     'expiry_month': '11',\n",
       "     'expiry_year': '2025',\n",
       "     'first6': '555555',\n",
       "     'issuer_country': 'US',\n",
       "     'last4': '4444'},\n",
       "    'id': '2cf59840-000f-5000-8000-18f8dd3ff47d',\n",
       "    'saved': False,\n",
       "    'title': 'Bank card *4444',\n",
       "    'type': 'bank_card'},\n",
       "   'receipt_registration': 'canceled',\n",
       "   'recipient': {'account_id': '285580', 'gateway_id': '2155075'},\n",
       "   'refundable': True,\n",
       "   'refunded_amount': {'currency': 'RUB', 'value': '0.00'},\n",
       "   'status': 'succeeded',\n",
       "   'test': True},\n",
       "  {'amount': {'currency': 'RUB', 'value': '500.00'},\n",
       "   'authorization_details': {'auth_code': '222694',\n",
       "    'rrn': '723165165374342',\n",
       "    'three_d_secure': {'applied': True}},\n",
       "   'captured_at': '2023-11-26T17:10:37.292Z',\n",
       "   'created_at': '2023-11-26T17:09:54.779Z',\n",
       "   'description': 'Заказ №72',\n",
       "   'id': '2cf58fa2-000f-5000-8000-14501fcb9404',\n",
       "   'income_amount': {'currency': 'RUB', 'value': '482.50'},\n",
       "   'metadata': {},\n",
       "   'paid': True,\n",
       "   'payment_method': {'card': {'card_type': 'MasterCard',\n",
       "     'expiry_month': '11',\n",
       "     'expiry_year': '2025',\n",
       "     'first6': '555555',\n",
       "     'issuer_country': 'US',\n",
       "     'last4': '4477'},\n",
       "    'id': '2cf58fa2-000f-5000-8000-14501fcb9404',\n",
       "    'saved': False,\n",
       "    'title': 'Bank card *4477',\n",
       "    'type': 'bank_card'},\n",
       "   'receipt_registration': 'canceled',\n",
       "   'recipient': {'account_id': '285580', 'gateway_id': '2155075'},\n",
       "   'refundable': True,\n",
       "   'refunded_amount': {'currency': 'RUB', 'value': '0.00'},\n",
       "   'status': 'succeeded',\n",
       "   'test': True},\n",
       "  {'amount': {'currency': 'RUB', 'value': '500.00'},\n",
       "   'authorization_details': {'auth_code': '409910',\n",
       "    'rrn': '605286077746061',\n",
       "    'three_d_secure': {'applied': True}},\n",
       "   'captured_at': '2023-11-26T17:34:01.529Z',\n",
       "   'created_at': '2023-11-26T17:07:09.960Z',\n",
       "   'description': 'Заказ №72',\n",
       "   'id': '2cf58efd-000f-5000-8000-1f865481e175',\n",
       "   'income_amount': {'currency': 'RUB', 'value': '482.50'},\n",
       "   'metadata': {},\n",
       "   'paid': True,\n",
       "   'payment_method': {'card': {'card_type': 'MasterCard',\n",
       "     'expiry_month': '11',\n",
       "     'expiry_year': '2025',\n",
       "     'first6': '555555',\n",
       "     'issuer_country': 'US',\n",
       "     'last4': '4477'},\n",
       "    'id': '2cf58efd-000f-5000-8000-1f865481e175',\n",
       "    'saved': False,\n",
       "    'title': 'Bank card *4477',\n",
       "    'type': 'bank_card'},\n",
       "   'receipt_registration': 'canceled',\n",
       "   'recipient': {'account_id': '285580', 'gateway_id': '2155075'},\n",
       "   'refundable': True,\n",
       "   'refunded_amount': {'currency': 'RUB', 'value': '0.00'},\n",
       "   'status': 'succeeded',\n",
       "   'test': True},\n",
       "  {'amount': {'currency': 'RUB', 'value': '500.00'},\n",
       "   'cancellation_details': {'party': 'yoo_money',\n",
       "    'reason': 'expired_on_confirmation'},\n",
       "   'created_at': '2023-11-26T17:06:22.733Z',\n",
       "   'description': 'Заказ №72',\n",
       "   'id': '2cf58ece-000f-5000-9000-16122dbb6ffe',\n",
       "   'metadata': {},\n",
       "   'paid': False,\n",
       "   'payment_method': {'id': '2cf58ece-000f-5000-9000-16122dbb6ffe',\n",
       "    'saved': False,\n",
       "    'type': 'bank_card'},\n",
       "   'recipient': {'account_id': '285580', 'gateway_id': '2155075'},\n",
       "   'refundable': False,\n",
       "   'status': 'canceled',\n",
       "   'test': True},\n",
       "  {'amount': {'currency': 'RUB', 'value': '100.00'},\n",
       "   'authorization_details': {'auth_code': '473663',\n",
       "    'rrn': '100913551978682',\n",
       "    'three_d_secure': {'applied': False}},\n",
       "   'captured_at': '2023-11-26T15:17:16.255Z',\n",
       "   'created_at': '2023-11-26T15:15:21.435Z',\n",
       "   'description': 'Заказ №1',\n",
       "   'id': '2cf574c9-000f-5000-9000-16991fa92602',\n",
       "   'income_amount': {'currency': 'RUB', 'value': '96.50'},\n",
       "   'metadata': {},\n",
       "   'paid': True,\n",
       "   'payment_method': {'card': {'card_type': 'MasterCard',\n",
       "     'expiry_month': '11',\n",
       "     'expiry_year': '2025',\n",
       "     'first6': '555555',\n",
       "     'issuer_country': 'US',\n",
       "     'last4': '4444'},\n",
       "    'id': '2cf574c9-000f-5000-9000-16991fa92602',\n",
       "    'saved': False,\n",
       "    'title': 'Bank card *4444',\n",
       "    'type': 'bank_card'},\n",
       "   'recipient': {'account_id': '285580', 'gateway_id': '2155075'},\n",
       "   'refundable': True,\n",
       "   'refunded_amount': {'currency': 'RUB', 'value': '0.00'},\n",
       "   'status': 'succeeded',\n",
       "   'test': True}],\n",
       " 'type': 'list'}"
      ]
     },
     "execution_count": 59,
     "metadata": {},
     "output_type": "execute_result"
    }
   ],
   "source": [
    "_j(res)"
   ]
  },
  {
   "cell_type": "code",
   "execution_count": 60,
   "id": "531a818d-fb2e-43f1-a5be-857a9b1a996c",
   "metadata": {},
   "outputs": [
    {
     "data": {
      "text/plain": [
       "6"
      ]
     },
     "execution_count": 60,
     "metadata": {},
     "output_type": "execute_result"
    }
   ],
   "source": [
    "len(res.items)"
   ]
  },
  {
   "cell_type": "code",
   "execution_count": 66,
   "id": "708623a6-9911-4a40-b4cd-c59d3b4cc48c",
   "metadata": {},
   "outputs": [
    {
     "name": "stdout",
     "output_type": "stream",
     "text": [
      "2cf5a6fc-000f-5000-9000-129bdeaef50b - 1\n",
      "2cf5a324-000f-5000-9000-189f392d94e6 - 1\n",
      "2cf59840-000f-5000-8000-18f8dd3ff47d - 1\n",
      "2cf58fa2-000f-5000-8000-14501fcb9404 - 1\n",
      "2cf58efd-000f-5000-8000-1f865481e175 - 1\n",
      "2cf574c9-000f-5000-9000-16991fa92602 - 1\n",
      "None - 1\n",
      "7\n"
     ]
    }
   ],
   "source": [
    "cursor = None\n",
    "data = { 'limit': 1, 'payment_method': 'bank_card', 'status': 'succeeded' }\n",
    "results = []\n",
    "while True:\n",
    "    res = Payment.list({**data, 'cursor': cursor})\n",
    "    print(f'{res.next_cursor} - {len(res.items)}')\n",
    "    results.extend(res.items)\n",
    "    if not (cursor := res.next_cursor):\n",
    "        break\n",
    "\n",
    "print(len(results))"
   ]
  },
  {
   "cell_type": "code",
   "execution_count": 69,
   "id": "dadb893c-8c4d-4bf4-836d-0d084996966f",
   "metadata": {},
   "outputs": [
    {
     "data": {
      "text/plain": [
       "{'amount': {'currency': 'RUB', 'value': '100.00'},\n",
       " 'authorization_details': {'auth_code': '473663',\n",
       "  'rrn': '100913551978682',\n",
       "  'three_d_secure': {'applied': False}},\n",
       " 'captured_at': '2023-11-26T15:17:16.255Z',\n",
       " 'created_at': '2023-11-26T15:15:21.435Z',\n",
       " 'description': 'Заказ №1',\n",
       " 'id': '2cf574c9-000f-5000-9000-16991fa92602',\n",
       " 'income_amount': {'currency': 'RUB', 'value': '96.50'},\n",
       " 'metadata': {},\n",
       " 'paid': True,\n",
       " 'payment_method': {'card': {'card_type': 'MasterCard',\n",
       "   'expiry_month': '11',\n",
       "   'expiry_year': '2025',\n",
       "   'first6': '555555',\n",
       "   'issuer_country': 'US',\n",
       "   'last4': '4444'},\n",
       "  'id': '2cf574c9-000f-5000-9000-16991fa92602',\n",
       "  'saved': False,\n",
       "  'title': 'Bank card *4444',\n",
       "  'type': 'bank_card'},\n",
       " 'recipient': {'account_id': '285580', 'gateway_id': '2155075'},\n",
       " 'refundable': True,\n",
       " 'refunded_amount': {'currency': 'RUB', 'value': '0.00'},\n",
       " 'status': 'succeeded',\n",
       " 'test': True}"
      ]
     },
     "execution_count": 69,
     "metadata": {},
     "output_type": "execute_result"
    }
   ],
   "source": [
    "_j(results[-1])"
   ]
  },
  {
   "cell_type": "markdown",
   "id": "17890a54-4776-4c95-9eb1-7f29971be810",
   "metadata": {},
   "source": [
    "# Чеки"
   ]
  },
  {
   "cell_type": "code",
   "execution_count": 72,
   "id": "5bc18d11-1451-4098-8315-13fe02b564fc",
   "metadata": {},
   "outputs": [],
   "source": [
    "idempotence_key = str(uuid.uuid4())\n",
    "resp = Payment.create({\n",
    "    \"capture\": False,\n",
    "    \"amount\": {\n",
    "        \"value\": \"1000.00\",\n",
    "        \"currency\": \"RUB\"\n",
    "    },\n",
    "    \"confirmation\": {\n",
    "        \"type\": \"redirect\",\n",
    "        \"return_url\": \"https://www.example.com/return_url\"\n",
    "    },\n",
    "    \"description\": \"Заказ №72\",\n",
    "    \"metadata\": {\"order_id\": 72}\n",
    "}, idempotence_key)\n"
   ]
  },
  {
   "cell_type": "code",
   "execution_count": 73,
   "id": "eae1d9e0-8b5a-441c-a2a2-4e0ced816826",
   "metadata": {},
   "outputs": [
    {
     "data": {
      "text/plain": [
       "'https://yoomoney.ru/checkout/payments/v2/contract?orderId=2cf5e3dd-000f-5000-a000-1bbf407ceff0'"
      ]
     },
     "execution_count": 73,
     "metadata": {},
     "output_type": "execute_result"
    }
   ],
   "source": [
    "_cu(resp)"
   ]
  },
  {
   "cell_type": "code",
   "execution_count": 74,
   "id": "d05050f5-85a6-4814-b132-561fbe36adbc",
   "metadata": {
    "scrolled": true
   },
   "outputs": [
    {
     "data": {
      "text/plain": [
       "{'amount': {'currency': 'RUB', 'value': '1000.00'},\n",
       " 'confirmation': {'confirmation_url': 'https://yoomoney.ru/checkout/payments/v2/contract?orderId=2cf5e3dd-000f-5000-a000-1bbf407ceff0',\n",
       "  'type': 'redirect'},\n",
       " 'created_at': '2023-11-26T23:09:17.501Z',\n",
       " 'description': 'Заказ №72',\n",
       " 'id': '2cf5e3dd-000f-5000-a000-1bbf407ceff0',\n",
       " 'metadata': {'order_id': '72'},\n",
       " 'paid': False,\n",
       " 'recipient': {'account_id': '285580', 'gateway_id': '2155075'},\n",
       " 'refundable': False,\n",
       " 'status': 'pending',\n",
       " 'test': True}"
      ]
     },
     "execution_count": 74,
     "metadata": {},
     "output_type": "execute_result"
    }
   ],
   "source": [
    "info(resp.id)"
   ]
  },
  {
   "cell_type": "code",
   "execution_count": 78,
   "id": "d1c63387-de90-445c-86f8-02f6701a4f02",
   "metadata": {},
   "outputs": [],
   "source": [
    "idempotence_key = str(uuid.uuid4())\n",
    "resp = Receipt.create({\n",
    "    \"customer\": {\n",
    "        \"email\": \"user@example.com\"\n",
    "    },\n",
    "  \"payment_id\": resp.id,\n",
    "  \"type\": \"payment\",\n",
    "  \"send\": True,\n",
    "    \"items\": [\n",
    "        {\n",
    "            \"description\": \"Топ трикотажный\",\n",
    "            \"quantity\": \"2.00\",\n",
    "            \"amount\": {\n",
    "                \"value\": \"500.00\",\n",
    "                \"currency\": \"RUB\"\n",
    "            },\n",
    "            \"vat_code\": \"4\",\n",
    "            \"payment_mode\": \"full_payment\",\n",
    "            \"payment_subject\": \"marked\",\n",
    "            \"mark_mode\": \"0\",\n",
    "            \"mark_code_info\":\n",
    "                {\n",
    "                    \"gs_1m\": \"DFGwNDY0MDE1Mzg2NDQ5MjIxNW9vY2tOelDFuUFwJh05MUVFMDYdOTJXK2ZaMy9uTjMvcVdHYzBjSVR3NFNOMWg1U2ZLV0dRMWhHL0UrZi8ydkDvPQ==\"\n",
    "                },\n",
    "            \"measure\": \"piece\"\n",
    "        }\n",
    "    ],\n",
    "  \"settlements\": [\n",
    "    {\n",
    "      \"type\": \"prepayment\",\n",
    "      \"amount\": {\n",
    "        \"value\": \"500.00\",\n",
    "        \"currency\": \"RUB\"\n",
    "      }\n",
    "    },\n",
    "    {\n",
    "      \"type\": \"prepayment\",\n",
    "      \"amount\": {\n",
    "        \"value\": \"500.00\",\n",
    "        \"currency\": \"RUB\"\n",
    "      }\n",
    "    }\n",
    "  ]\n",
    "}, idempotence_key)\n"
   ]
  },
  {
   "cell_type": "code",
   "execution_count": 80,
   "id": "a71bab22-31c7-4ad5-9333-8a8be98bb118",
   "metadata": {},
   "outputs": [
    {
     "data": {
      "text/plain": [
       "{'id': 'ra-2cf5e44c-0001-0050-cfce-8dec055e30b6',\n",
       " 'items': [{'amount': {'currency': 'RUB', 'value': '500.00'},\n",
       "   'description': 'Топ трикотажный',\n",
       "   'mark_code_info': {'gs_1m': 'DFGwNDY0MDE1Mzg2NDQ5MjIxNW9vY2tOelDFuUFwJh05MUVFMDYdOTJXK2ZaMy9uTjMvcVdHYzBjSVR3NFNOMWg1U2ZLV0dRMWhHL0UrZi8ydkDvPQ=='},\n",
       "   'mark_mode': '0',\n",
       "   'measure': 'piece',\n",
       "   'payment_mode': 'full_payment',\n",
       "   'payment_subject': 'marked',\n",
       "   'payment_subject_industry_details': [],\n",
       "   'quantity': '2.0',\n",
       "   'vat_code': 4}],\n",
       " 'payment_id': '2cf5e3dd-000f-5000-a000-1bbf407ceff0',\n",
       " 'receipt_industry_details': [],\n",
       " 'receipt_registration': 'pending',\n",
       " 'settlements': [{'amount': {'currency': 'RUB', 'value': '500.00'},\n",
       "   'type': 'prepayment'},\n",
       "  {'amount': {'currency': 'RUB', 'value': '500.00'}, 'type': 'prepayment'}],\n",
       " 'status': 'pending',\n",
       " 'type': 'payment'}"
      ]
     },
     "execution_count": 80,
     "metadata": {},
     "output_type": "execute_result"
    }
   ],
   "source": [
    "_j(resp)"
   ]
  },
  {
   "cell_type": "code",
   "execution_count": 81,
   "id": "17aaa48f-cf66-4830-89d9-114df1e01392",
   "metadata": {},
   "outputs": [],
   "source": [
    "resp = Payment.capture(\n",
    "  resp.payment_id,\n",
    "  {\n",
    "    \"amount\": {\n",
    "      \"value\": \"1000.00\",\n",
    "      \"currency\": \"RUB\"\n",
    "    }\n",
    "  }\n",
    ")\n"
   ]
  },
  {
   "cell_type": "code",
   "execution_count": 82,
   "id": "e89eee04-f94c-4e27-8a27-0b08d14b0138",
   "metadata": {
    "scrolled": true
   },
   "outputs": [
    {
     "data": {
      "text/plain": [
       "{'amount': {'currency': 'RUB', 'value': '1000.00'},\n",
       " 'captured_at': '2023-11-26T23:11:54.967Z',\n",
       " 'created_at': '2023-11-26T23:09:17.501Z',\n",
       " 'description': 'Заказ №72',\n",
       " 'id': '2cf5e3dd-000f-5000-a000-1bbf407ceff0',\n",
       " 'income_amount': {'currency': 'RUB', 'value': '965.00'},\n",
       " 'metadata': {'order_id': '72'},\n",
       " 'paid': True,\n",
       " 'payment_method': {'id': '2cf5e3dd-000f-5000-a000-1bbf407ceff0',\n",
       "  'saved': False,\n",
       "  'title': 'YooMoney wallet 410011758831136',\n",
       "  'type': 'yoo_money'},\n",
       " 'recipient': {'account_id': '285580', 'gateway_id': '2155075'},\n",
       " 'refundable': True,\n",
       " 'refunded_amount': {'currency': 'RUB', 'value': '0.00'},\n",
       " 'status': 'succeeded',\n",
       " 'test': True}"
      ]
     },
     "execution_count": 82,
     "metadata": {},
     "output_type": "execute_result"
    }
   ],
   "source": [
    "_j(resp)"
   ]
  },
  {
   "cell_type": "code",
   "execution_count": null,
   "id": "72459261-6f1b-452c-bc73-3ba905a4d4f4",
   "metadata": {},
   "outputs": [],
   "source": []
  }
 ],
 "metadata": {
  "kernelspec": {
   "display_name": "Python 3 (ipykernel)",
   "language": "python",
   "name": "python3"
  },
  "language_info": {
   "codemirror_mode": {
    "name": "ipython",
    "version": 3
   },
   "file_extension": ".py",
   "mimetype": "text/x-python",
   "name": "python",
   "nbconvert_exporter": "python",
   "pygments_lexer": "ipython3",
   "version": "3.12.0"
  }
 },
 "nbformat": 4,
 "nbformat_minor": 5
}
